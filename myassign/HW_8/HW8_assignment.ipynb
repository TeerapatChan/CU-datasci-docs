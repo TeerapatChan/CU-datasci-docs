{
  "cells": [
    {
      "cell_type": "markdown",
      "metadata": {
        "id": "Aa1qTbjJWAXn"
      },
      "source": [
        "# Assignment: Extracting Static WebPage\n",
        "\n",
        "Extract information about “วันพระ” for 3 years from:\n",
        "- https://www.myhora.com/ปฏิทิน/วันพระ-พ.ศ.2565.aspx\n",
        "- https://www.myhora.com/ปฏิทิน/วันพระ-พ.ศ.2566.aspx\n",
        "- https://www.myhora.com/ปฏิทิน/วันพระ-พ.ศ.2567.aspx\n"
      ]
    },
    {
      "cell_type": "markdown",
      "metadata": {
        "id": "-M0C7Ut1WAXq"
      },
      "source": [
        "Note that you can use dateparse package to parse Thai date.  First, we will have to install the package, this is for Google Colab users.  Otherwise, installing via command line is recommended (pip or conda)."
      ]
    },
    {
      "cell_type": "code",
      "execution_count": 64,
      "metadata": {
        "id": "0gPu5Ye6WAXr",
        "scrolled": true
      },
      "outputs": [],
      "source": [
        "import sys\n",
        "IN_COLAB = 'google.colab' in sys.modules\n",
        "if IN_COLAB:\n",
        "    %pip install dateparser selenium chromedriver_autoinstall"
      ]
    },
    {
      "cell_type": "code",
      "execution_count": 65,
      "metadata": {
        "id": "wettSiq9WAXs"
      },
      "outputs": [],
      "source": [
        "import dateparser"
      ]
    },
    {
      "cell_type": "markdown",
      "metadata": {
        "id": "liVQ_zwjWAXs"
      },
      "source": [
        "To convert from thai text date string, we will use the parse method.  Note that the parse method assumes the BC year, not BE.  Thus, we will have to subtract 543 from the year.  In addition, weekday() returns day of week with 0=Monday, ..., 6=Sunday."
      ]
    },
    {
      "cell_type": "code",
      "execution_count": 66,
      "metadata": {
        "id": "n6TwfHRxWAXt"
      },
      "outputs": [
        {
          "name": "stdout",
          "output_type": "stream",
          "text": [
            "2563-01-17 00:00:00\n",
            "0\n",
            "2020-01-17 00:00:00\n",
            "4\n"
          ]
        }
      ],
      "source": [
        "dt = dateparser.parse('วันศุกร์ที่ 17 มกราคม 2563')\n",
        "\n",
        "# this will print out weekday == 0 (Monday)\n",
        "print(dt)\n",
        "print(dt.weekday())\n",
        "\n",
        "# this will print out weekday == 4 (Friday)\n",
        "dt = dt.replace(year=dt.year-543)\n",
        "print(dt)\n",
        "print(dt.weekday())"
      ]
    },
    {
      "cell_type": "code",
      "execution_count": 67,
      "metadata": {
        "id": "elGjTIewWAXt"
      },
      "outputs": [
        {
          "name": "stdout",
          "output_type": "stream",
          "text": [
            "2021-09-21 00:00:00\n",
            "1\n"
          ]
        }
      ],
      "source": [
        "dt = dateparser.parse('วันเสาร์ที่ 21 กันยายน 2564')\n",
        "dt = dt.replace(year=dt.year-543)\n",
        "print(dt)\n",
        "print(dt.weekday())"
      ]
    },
    {
      "cell_type": "markdown",
      "metadata": {
        "id": "9GzuXAlpWAXu"
      },
      "source": [
        "Count the distribution of number of week days that are “วันพระ” for all three years and answer the following questions:"
      ]
    },
    {
      "cell_type": "markdown",
      "metadata": {
        "id": "RzYVOW77WAXu"
      },
      "source": [
        "## How many วันพระ in total (of 3 years)?"
      ]
    },
    {
      "cell_type": "code",
      "execution_count": 68,
      "metadata": {
        "id": "PVhPN63jWAXu"
      },
      "outputs": [
        {
          "name": "stdout",
          "output_type": "stream",
          "text": [
            "Total buddha days:  152 days\n"
          ]
        }
      ],
      "source": [
        "from selenium import webdriver\n",
        "\n",
        "urls = [\"https://www.myhora.com/ปฏิทิน/วันพระ-พ.ศ.2565.aspx\",\n",
        "\"https://www.myhora.com/ปฏิทิน/วันพระ-พ.ศ.2566.aspx\",\n",
        "\"https://www.myhora.com/ปฏิทิน/วันพระ-พ.ศ.2567.aspx\"]\n",
        "\n",
        "driver = webdriver.Chrome()\n",
        "\n",
        "year = 2565\n",
        "sum = 0\n",
        "for url in urls:\n",
        "    driver.get(url)\n",
        "\n",
        "    data = driver.find_elements(\"class name\", \"bud-day-col\")\n",
        "\n",
        "    bud_days = [bud_day_col for bud_day_col in data if str(year) in bud_day_col.text]\n",
        "    year += 1\n",
        "    sum += len(bud_days)\n",
        "print(\"Total buddha days: \", sum,  \"days\")\n",
        "driver.quit()"
      ]
    },
    {
      "cell_type": "markdown",
      "metadata": {
        "id": "T86EGYZtWAXu"
      },
      "source": [
        "## How many days in total (of 3 years) that วันพระ is Monday?"
      ]
    },
    {
      "cell_type": "code",
      "execution_count": 69,
      "metadata": {
        "id": "3VKUTgD-WAXv"
      },
      "outputs": [
        {
          "name": "stdout",
          "output_type": "stream",
          "text": [
            "Total buddha days on Monday:  21\n"
          ]
        }
      ],
      "source": [
        "from selenium import webdriver\n",
        "\n",
        "urls = [\"https://www.myhora.com/ปฏิทิน/วันพระ-พ.ศ.2565.aspx\",\n",
        "\"https://www.myhora.com/ปฏิทิน/วันพระ-พ.ศ.2566.aspx\",\n",
        "\"https://www.myhora.com/ปฏิทิน/วันพระ-พ.ศ.2567.aspx\"]\n",
        "\n",
        "driver = webdriver.Chrome()\n",
        "\n",
        "year = 2565\n",
        "sum = 0\n",
        "for url in urls:\n",
        "    driver.get(url)\n",
        "\n",
        "    data = driver.find_elements(\"class name\", \"bud-day-col\")\n",
        "\n",
        "    bud_days = [bud_day_col for bud_day_col in data if str(year) in bud_day_col.text]\n",
        "    monday_bud_days = []\n",
        "    for bud_day in bud_days:\n",
        "        dt = dateparser.parse(bud_day.text)\n",
        "        dt = dt.replace(year=dt.year-543)\n",
        "        day = dt.weekday()\n",
        "        \n",
        "        if day == 0:\n",
        "            sum += 1\n",
        "    year += 1\n",
        "\n",
        "print(\"Total buddha days on Monday: \", sum)\n",
        "driver.quit()"
      ]
    },
    {
      "cell_type": "markdown",
      "metadata": {
        "id": "cfS4E2AdWAXv"
      },
      "source": [
        "## Which day of the week that has the minimum number of วันพระ?"
      ]
    },
    {
      "cell_type": "code",
      "execution_count": 70,
      "metadata": {
        "id": "MlqZwNsQWAXv"
      },
      "outputs": [
        {
          "name": "stdout",
          "output_type": "stream",
          "text": [
            "The day of the week that has the minimum number of buddha days is Tuesday with 20 days\n"
          ]
        }
      ],
      "source": [
        "from selenium import webdriver\n",
        "\n",
        "urls = [\"https://www.myhora.com/ปฏิทิน/วันพระ-พ.ศ.2565.aspx\",\n",
        "\"https://www.myhora.com/ปฏิทิน/วันพระ-พ.ศ.2566.aspx\",\n",
        "\"https://www.myhora.com/ปฏิทิน/วันพระ-พ.ศ.2567.aspx\"]\n",
        "\n",
        "day_counts = {\n",
        "    'Sunday': 0,\n",
        "    'Monday': 0,\n",
        "    'Tuesday': 0,\n",
        "    'Wednesday': 0,\n",
        "    'Thursday': 0,\n",
        "    'Friday': 0,\n",
        "    'Saturday': 0\n",
        "}\n",
        "\n",
        "map_day = {\n",
        "    0: \"Monday\",\n",
        "    1: \"Tuesday\",\n",
        "    2: \"Wednesday\",\n",
        "    3: \"Thursday\",\n",
        "    4: \"Friday\",\n",
        "    5: \"Saturday\",\n",
        "    6: \"Sunday\"\n",
        "}\n",
        "\n",
        "driver = webdriver.Chrome()\n",
        "\n",
        "year = 2565\n",
        "\n",
        "for url in urls:\n",
        "    driver.get(url)\n",
        "\n",
        "    data = driver.find_elements(\"class name\", \"bud-day-col\")\n",
        "\n",
        "    bud_days = [bud_day_col for bud_day_col in data if str(year) in bud_day_col.text]\n",
        "\n",
        "    for bud_day in bud_days:\n",
        "        dt = dateparser.parse(bud_day.text)\n",
        "        dt = dt.replace(year=dt.year-543)\n",
        "\n",
        "        day_of_week = map_day[dt.weekday()]\n",
        "        day_counts[day_of_week] += 1\n",
        "    year += 1\n",
        "\n",
        "min_day = min(day_counts, key=day_counts.get)\n",
        "print(f\"The day of the week that has the minimum number of buddha days is {min_day} with {day_counts[min_day]} days\")\n",
        "driver.quit()\n"
      ]
    },
    {
      "cell_type": "markdown",
      "metadata": {
        "id": "7h7_2CKqWAXv"
      },
      "source": [
        "## Which day of the week that has the maximum number of วันพระ?"
      ]
    },
    {
      "cell_type": "code",
      "execution_count": 71,
      "metadata": {
        "id": "0V6ntFRbWAXv"
      },
      "outputs": [
        {
          "name": "stdout",
          "output_type": "stream",
          "text": [
            "The day of the week that has the maximum number of buddha days is Sunday with 24 days\n"
          ]
        }
      ],
      "source": [
        "day_counts = {\n",
        "    'Sunday': 0,\n",
        "    'Monday': 0,\n",
        "    'Tuesday': 0,\n",
        "    'Wednesday': 0,\n",
        "    'Thursday': 0,\n",
        "    'Friday': 0,\n",
        "    'Saturday': 0\n",
        "}\n",
        "\n",
        "map_day = {\n",
        "    0: \"Monday\",\n",
        "    1: \"Tuesday\",\n",
        "    2: \"Wednesday\",\n",
        "    3: \"Thursday\",\n",
        "    4: \"Friday\",\n",
        "    5: \"Saturday\",\n",
        "    6: \"Sunday\"\n",
        "}\n",
        "\n",
        "driver = webdriver.Chrome()\n",
        "\n",
        "year = 2565\n",
        "\n",
        "for url in urls:\n",
        "    driver.get(url)\n",
        "\n",
        "    data = driver.find_elements(\"class name\", \"bud-day-col\")\n",
        "\n",
        "    bud_days = [bud_day_col for bud_day_col in data if str(year) in bud_day_col.text]\n",
        "\n",
        "    for bud_day in bud_days:\n",
        "        dt = dateparser.parse(bud_day.text)\n",
        "        dt = dt.replace(year=dt.year-543)\n",
        "\n",
        "        day_of_week = map_day[dt.weekday()]\n",
        "        day_counts[day_of_week] += 1\n",
        "    year += 1\n",
        "\n",
        "max_day = max(day_counts, key=day_counts.get)\n",
        "print(f\"The day of the week that has the maximum number of buddha days is {max_day} with {day_counts[max_day]} days\")\n",
        "driver.quit()\n"
      ]
    }
  ],
  "metadata": {
    "colab": {
      "provenance": []
    },
    "kernelspec": {
      "display_name": "Python 3 (ipykernel)",
      "language": "python",
      "name": "python3"
    },
    "language_info": {
      "codemirror_mode": {
        "name": "ipython",
        "version": 3
      },
      "file_extension": ".py",
      "mimetype": "text/x-python",
      "name": "python",
      "nbconvert_exporter": "python",
      "pygments_lexer": "ipython3",
      "version": "3.12.2"
    },
    "toc": {
      "base_numbering": 1,
      "nav_menu": {},
      "number_sections": true,
      "sideBar": true,
      "skip_h1_title": false,
      "title_cell": "Table of Contents",
      "title_sidebar": "Contents",
      "toc_cell": false,
      "toc_position": {},
      "toc_section_display": true,
      "toc_window_display": false
    },
    "varInspector": {
      "cols": {
        "lenName": 16,
        "lenType": 16,
        "lenVar": 40
      },
      "kernels_config": {
        "python": {
          "delete_cmd_postfix": "",
          "delete_cmd_prefix": "del ",
          "library": "var_list.py",
          "varRefreshCmd": "print(var_dic_list())"
        },
        "r": {
          "delete_cmd_postfix": ") ",
          "delete_cmd_prefix": "rm(",
          "library": "var_list.r",
          "varRefreshCmd": "cat(var_dic_list()) "
        }
      },
      "types_to_exclude": [
        "module",
        "function",
        "builtin_function_or_method",
        "instance",
        "_Feature"
      ],
      "window_display": false
    }
  },
  "nbformat": 4,
  "nbformat_minor": 0
}
