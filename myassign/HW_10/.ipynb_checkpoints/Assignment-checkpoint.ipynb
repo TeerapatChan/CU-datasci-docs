{
 "cells": [
  {
   "cell_type": "markdown",
   "metadata": {},
   "source": [
    "# Spark Preparation\n",
    "We check if we are in Google Colab.  If this is the case, install all necessary packages.\n",
    "\n",
    "To run spark in Colab, we need to first install all the dependencies in Colab environment i.e. Apache Spark 3.3.2 with hadoop 3.3, Java 8 and Findspark to locate the spark in the system. The tools installation can be carried out inside the Jupyter Notebook of the Colab.\n",
    "Learn more from [A Must-Read Guide on How to Work with PySpark on Google Colab for Data Scientists!](https://www.analyticsvidhya.com/blog/2020/11/a-must-read-guide-on-how-to-work-with-pyspark-on-google-colab-for-data-scientists/)"
   ]
  },
  {
   "cell_type": "code",
   "execution_count": 16,
   "metadata": {},
   "outputs": [],
   "source": [
    "try:\n",
    "  import google.colab\n",
    "  IN_COLAB = True\n",
    "except:\n",
    "  IN_COLAB = False"
   ]
  },
  {
   "cell_type": "code",
   "execution_count": 17,
   "metadata": {},
   "outputs": [],
   "source": [
    "if IN_COLAB:\n",
    "    !apt-get install openjdk-8-jdk-headless -qq > /dev/null\n",
    "    !wget -q https://dlcdn.apache.org/spark/spark-3.3.2/spark-3.3.2-bin-hadoop3.tgz\n",
    "    !tar xf spark-3.3.2-bin-hadoop3.tgz\n",
    "    !mv spark-3.3.2-bin-hadoop3 spark\n",
    "    !pip install -q findspark\n",
    "    import os\n",
    "    os.environ[\"JAVA_HOME\"] = \"/usr/lib/jvm/java-8-openjdk-amd64\"\n",
    "    os.environ[\"SPARK_HOME\"] = \"/content/spark\""
   ]
  },
  {
   "cell_type": "code",
   "execution_count": 18,
   "metadata": {},
   "outputs": [
    {
     "name": "stdout",
     "output_type": "stream",
     "text": [
      "Note: you may need to restart the kernel to use updated packages.\n"
     ]
    }
   ],
   "source": [
    "%pip install -q findspark pyspark"
   ]
  },
  {
   "cell_type": "markdown",
   "metadata": {},
   "source": [
    "# Start a Local Cluster"
   ]
  },
  {
   "cell_type": "code",
   "execution_count": 19,
   "metadata": {},
   "outputs": [],
   "source": [
    "import findspark\n",
    "from pyspark.sql import SparkSession\n",
    "\n",
    "findspark.init()\n",
    "spark_url = 'local'\n",
    "spark = SparkSession.builder\\\n",
    "    .master(spark_url)\\\n",
    "    .appName('Spark Assignment')\\\n",
    "    .getOrCreate()"
   ]
  },
  {
   "cell_type": "markdown",
   "metadata": {},
   "source": [
    "# Spark Assignment\n",
    "\n",
    "Based on the movie review dataset in 'netflix-rotten-tomatoes-metacritic-imdb.csv', answer the below questions.\n",
    "\n",
    "**Note:** do not clean or remove missing data"
   ]
  },
  {
   "cell_type": "code",
   "execution_count": 20,
   "metadata": {},
   "outputs": [
    {
     "name": "stdout",
     "output_type": "stream",
     "text": [
      "+-------------------+--------------------+--------------------+--------------------+---------------+----------------+--------------------+------------+---------------+--------------------+--------------------+-----------+----------+---------------------+----------------+---------------+--------------------+----------+------------+--------------------+--------------------+--------------------+--------------------+--------------------+----------+--------------------+--------------------+--------------------+------------+\n",
      "|              Title|               Genre|                Tags|           Languages|Series or Movie|Hidden Gem Score|Country Availability|     Runtime|       Director|              Writer|              Actors|View Rating|IMDb Score|Rotten Tomatoes Score|Metacritic Score|Awards Received|Awards Nominated For| Boxoffice|Release Date|Netflix Release Date|    Production House|        Netflix Link|           IMDb Link|             Summary|IMDb Votes|               Image|              Poster|        TMDb Trailer|Trailer Site|\n",
      "+-------------------+--------------------+--------------------+--------------------+---------------+----------------+--------------------+------------+---------------+--------------------+--------------------+-----------+----------+---------------------+----------------+---------------+--------------------+----------+------------+--------------------+--------------------+--------------------+--------------------+--------------------+----------+--------------------+--------------------+--------------------+------------+\n",
      "|   Lets Fight Ghost|Crime, Drama, Fan...|Comedy Programmes...|    Swedish, Spanish|         Series|             4.3|            Thailand|< 30 minutes|Tomas Alfredson|John Ajvide Lindq...|Kåre Hedebrant, P...|          R|       7.9|                 98.0|            82.0|           74.0|                57.0|$2,122,065| 12 Dec 2008|          2021-03-04|Canal+, Sandrew M...|https://www.netfl...|https://www.imdb....|A med student wit...|  205926.0|https://occ-0-470...|https://m.media-a...|                NULL|        NULL|\n",
      "|HOW TO BUILD A GIRL|              Comedy|Dramas,Comedies,F...|             English|          Movie|             7.0|              Canada|    1-2 hour|  Coky Giedroyc|       Caitlin Moran|Paddy Considine, ...|          R|       5.8|                 79.0|            69.0|            1.0|                NULL|   $70,632| 08 May 2020|          2021-03-04|Film 4, Monumenta...|https://www.netfl...|https://www.imdb....|When nerdy Johann...|    2838.0|https://occ-0-108...|https://m.media-a...|https://www.youtu...|     YouTube|\n",
      "|         Centigrade|     Drama, Thriller|           Thrillers|             English|          Movie|             6.4|              Canada|    1-2 hour|  Brendan Walsh|Brendan Walsh, Da...|Genesis Rodriguez...|    Unrated|       4.3|                 NULL|            46.0|           NULL|                NULL|   $16,263| 28 Aug 2020|          2021-03-04|                NULL|https://www.netfl...|https://www.imdb....|Trapped in a froz...|    1720.0|https://occ-0-108...|https://m.media-a...|https://www.youtu...|     YouTube|\n",
      "|              ANNE+|               Drama|TV Dramas,Romanti...|             Turkish|         Series|             7.7| Belgium,Netherlands|< 30 minutes|           NULL|                NULL|Vahide Perçin, Go...|       NULL|       6.5|                 NULL|            NULL|            1.0|                NULL|      NULL| 01 Oct 2016|          2021-03-04|                NULL|https://www.netfl...|https://www.imdb....|Upon moving into ...|    1147.0|https://occ-0-148...|https://m.media-a...|                NULL|        NULL|\n",
      "|              Moxie|Animation, Short,...|Social Issue Dram...|             English|          Movie|             8.1|Lithuania,Poland,...|    1-2 hour|  Stephen Irwin|                NULL|        Ragga Gudrun|       NULL|       6.3|                 NULL|            NULL|           NULL|                 4.0|      NULL| 22 Sep 2011|          2021-03-04|                NULL|https://www.netfl...|https://www.imdb....|Inspired by her m...|      63.0|https://occ-0-403...|https://m.media-a...|                NULL|        NULL|\n",
      "|   The Con-Heartist|     Comedy, Romance|Romantic Comedies...|                Thai|          Movie|             8.6|            Thailand|     > 2 hrs|  Mez Tharatorn|Pattaranad Bhiboo...|Thiti Mahayotaruk...|       NULL|       7.4|                 NULL|            NULL|           NULL|                NULL|      NULL| 03 Dec 2020|          2021-03-03|                NULL|https://www.netfl...|https://www.imdb....|After her ex-boyf...|     131.0|https://occ-0-218...|https://m.media-a...|https://www.youtu...|     YouTube|\n",
      "|       Gleboka woda|               Drama|TV Dramas,Polish ...|              Polish|         Series|             8.7|              Poland|< 30 minutes|           NULL|                NULL|Marcin Dorocinski...|       NULL|       7.5|                 NULL|            NULL|            2.0|                 4.0|      NULL| 14 Jun 2011|          2021-03-03|                NULL|https://www.netfl...|https://www.imdb....|A group of social...|      47.0|https://occ-0-250...|https://m.media-a...|                NULL|        NULL|\n",
      "|           Instynkt|               Crime|TV Dramas,Crime T...|              Polish|         Series|             6.9|              Poland|< 30 minutes|           NULL|                NULL|Pawel Królikowski...|       NULL|       3.9|                 NULL|            NULL|           NULL|                NULL|      NULL| 03 Mar 2011|          2021-03-03|                NULL|https://www.netfl...|https://www.imdb....|An enigmatic comm...|     107.0|https://occ-0-250...|https://m.media-a...|                NULL|        NULL|\n",
      "|      Only a Mother|               Drama|Social Issue Dram...|             Swedish|          Movie|             8.3|Lithuania,Poland,...|    1-2 hour|    Alf Sjöberg|   Ivar Lo-Johansson|Ulf Palme, Ragnar...|       NULL|       6.7|                 NULL|            NULL|            2.0|                 1.0|      NULL| 31 Oct 1949|          2021-03-03|                NULL|https://www.netfl...|https://www.imdb....|An unhappily marr...|      88.0|https://occ-0-285...|https://m.media-a...|                NULL|        NULL|\n",
      "|         Snowroller|              Comedy|Sports Movies,Spo...|Swedish, English,...|          Movie|             5.3|Lithuania,Poland,...|    1-2 hour|    Lasse Åberg|Lasse Åberg, Bo J...|Jon Skolmen, Ceci...|       NULL|       6.6|                 NULL|            NULL|           NULL|                NULL|      NULL| 04 Oct 1985|          2021-03-03|                NULL|https://www.netfl...|https://www.imdb....|Two friends take ...|    5926.0|https://occ-0-285...|https://m.media-a...|                NULL|        NULL|\n",
      "+-------------------+--------------------+--------------------+--------------------+---------------+----------------+--------------------+------------+---------------+--------------------+--------------------+-----------+----------+---------------------+----------------+---------------+--------------------+----------+------------+--------------------+--------------------+--------------------+--------------------+--------------------+----------+--------------------+--------------------+--------------------+------------+\n",
      "only showing top 10 rows\n",
      "\n"
     ]
    }
   ],
   "source": [
    " path = 'netflix-rotten-tomatoes-metacritic-imdb.csv'\n",
    " df = spark.read.option(\"header\", True).csv(path)\n",
    " df.show(10)"
   ]
  },
  {
   "cell_type": "markdown",
   "metadata": {},
   "source": [
    "## What is the maximum and average of the overall hidden gem score?"
   ]
  },
  {
   "cell_type": "code",
   "execution_count": 41,
   "metadata": {},
   "outputs": [
    {
     "name": "stdout",
     "output_type": "stream",
     "text": [
      "Maximum Overall Hidden Gem Score: 9.8\n",
      "Average Overall Hidden Gem Score: 5.937551386501226\n",
      "Maximum Overall Hidden Gem Score: 5.937551386501226\n",
      "Average Overall Hidden Gem Score: 9.8\n"
     ]
    }
   ],
   "source": [
    "from pyspark.sql.functions import avg, min, max, countDistinct\n",
    "\n",
    "hidden_gem_scores = df.select(\"Hidden Gem Score\")\n",
    "\n",
    "max_score = hidden_gem_scores.agg({\"Hidden Gem Score\": \"max\"}).collect()[0][0]\n",
    "average_score = hidden_gem_scores.agg({\"Hidden Gem Score\": \"avg\"}).collect()[0][0]\n",
    "\n",
    "max_score2 = hidden_gem_scores.select(avg(\"Hidden Gem Score\")).first()[0]\n",
    "average_score2 = hidden_gem_scores.select(max(\"Hidden Gem Score\")).first()[0]\n",
    "\n",
    "print(\"Maximum Overall Hidden Gem Score:\", max_score)\n",
    "print(\"Average Overall Hidden Gem Score:\", average_score)\n",
    "\n",
    "print(\"Maximum Overall Hidden Gem Score:\", max_score2)\n",
    "print(\"Average Overall Hidden Gem Score:\", average_score2)"
   ]
  },
  {
   "cell_type": "markdown",
   "metadata": {},
   "source": [
    "## How many movies that are available in Korea?"
   ]
  },
  {
   "cell_type": "code",
   "execution_count": 46,
   "metadata": {},
   "outputs": [
    {
     "name": "stdout",
     "output_type": "stream",
     "text": [
      "+--------------------+--------------------+--------------------+----------------+---------------+----------------+--------------------+--------+---------------+--------------------+--------------------+-----------+----------+---------------------+----------------+---------------+--------------------+----------+------------+--------------------+----------------+--------------------+--------------------+--------------------+----------+--------------------+--------------------+--------------------+------------+\n",
      "|               Title|               Genre|                Tags|       Languages|Series or Movie|Hidden Gem Score|Country Availability| Runtime|       Director|              Writer|              Actors|View Rating|IMDb Score|Rotten Tomatoes Score|Metacritic Score|Awards Received|Awards Nominated For| Boxoffice|Release Date|Netflix Release Date|Production House|        Netflix Link|           IMDb Link|             Summary|IMDb Votes|               Image|              Poster|        TMDb Trailer|Trailer Site|\n",
      "+--------------------+--------------------+--------------------+----------------+---------------+----------------+--------------------+--------+---------------+--------------------+--------------------+-----------+----------+---------------------+----------------+---------------+--------------------+----------+------------+--------------------+----------------+--------------------+--------------------+--------------------+----------+--------------------+--------------------+--------------------+------------+\n",
      "|           Miss Baek|               Drama|Korean Movies,Dramas|          Korean|          Movie|             7.9|         South Korea|1-2 hour|     Ji-won Lee|          Ji-won Lee|Hee-joon Lee, Jun...|  Not Rated|       6.6|                 NULL|            NULL|           10.0|                16.0|      NULL| 11 Oct 2018|          2021-02-28|            NULL|https://www.netfl...|https://www.imdb....|Reminded of her o...|     814.0|https://occ-0-136...|https://m.media-a...|https://www.youtu...|     YouTube|\n",
      "|      Old Marine Boy|         Documentary|Korean Movies,Doc...|          Korean|          Movie|             8.4|         South Korea|1-2 hour|   Mo-young Jin|                NULL|Myoungho Park, Ch...|       NULL|       6.9|                 NULL|            NULL|           NULL|                NULL|      NULL|        NULL|          2021-02-28|            NULL|https://www.netfl...|https://www.imdb....|This documentary ...|       7.0|https://occ-0-136...|https://m.media-a...|                NULL|        NULL|\n",
      "|      Outdoor Begins|Comedy, Fantasy, ...|Korean Movies,Com...|          Korean|          Movie|             7.4|         South Korea|1-2 hour|   Jinseung Lim|Jinseung Lim, Min...|Yoo-Mi Lee, Young...|       NULL|       4.8|                 NULL|            NULL|           NULL|                NULL|      NULL| 04 Mar 2017|          2021-02-28|            NULL|https://www.netfl...|https://www.imdb....|When night falls ...|       6.0|https://occ-0-136...|https://m.media-a...|https://www.youtu...|     YouTube|\n",
      "|   A Tiger In Winter|      Drama, Romance|Korean Movies,Dramas|          Korean|          Movie|             8.1|         South Korea|1-2 hour|  Kwang-kuk Lee|       Kwang-kuk Lee|Seung-gil Jeong, ...|       NULL|       6.3|                 NULL|            NULL|           NULL|                 1.0|      NULL| 12 Apr 2018|          2021-02-28|            NULL|https://www.netfl...|https://www.imdb....|On the cusp of hi...|      69.0|https://occ-0-136...|https://m.media-a...|https://www.youtu...|     YouTube|\n",
      "|   Keys To The Heart|Comedy, Drama, Fa...|Korean Movies,Com...|          Korean|          Movie|             8.4|         South Korea| > 2 hrs| Sung-Hyun Choi|      Sung-Hyun Choi|Sung-ryung Kim, J...|       NULL|       7.5|                 77.0|            NULL|           NULL|                 1.0|   $75,134| 26 Jan 2018|          2021-02-28|            NULL|https://www.netfl...|https://www.imdb....|With nothing in c...|     825.0|https://occ-0-136...|https://m.media-a...|https://www.youtu...|     YouTube|\n",
      "|        Homme Fatale|Comedy, History, ...|Social Issue Dram...|          Korean|          Movie|             8.4|         South Korea|1-2 hour|    Da-Jung Nam|         Da-Jung Nam|Jisu Choi, Jun-Ho...|       NULL|       6.9|                 NULL|            NULL|           NULL|                NULL|      NULL| 10 Jul 2019|          2021-02-28|            NULL|https://www.netfl...|https://www.imdb....|In an effort to s...|      86.0|https://occ-0-136...|https://m.media-a...|https://www.youtu...|     YouTube|\n",
      "|       Happy Bus Day|       Comedy, Drama|Dark Comedies,Kor...|          Korean|          Movie|             8.4|         South Korea|1-2 hour|  Seung-Won Lee|                NULL|          Ju-won Lee|       NULL|       6.8|                 NULL|            NULL|            2.0|                 2.0|      NULL| 21 Apr 2017|          2021-02-28|            NULL|https://www.netfl...|https://www.imdb....|At a gathering to...|      27.0|https://occ-0-136...|https://m.media-a...|                NULL|        NULL|\n",
      "|Gonjiam: Haunted ...|              Horror|Korean Movies,Hor...|          Korean|          Movie|             6.3|         South Korea|1-2 hour| Beom-sik Jeong|Sang-min Park, Be...|Wi Ha-Joon, Seung...|  Not Rated|       6.3|                 91.0|            NULL|            2.0|                 9.0|  $115,252| 28 Mar 2018|          2021-02-28|            NULL|https://www.netfl...|https://www.imdb....|Eager to capture ...|    5195.0|https://occ-0-136...|https://m.media-a...|https://www.youtu...|     YouTube|\n",
      "|         Extreme Job|Action, Comedy, C...|Dark Comedies,Act...|Korean, Mandarin|          Movie|             5.4|         South Korea|1-2 hour|Byeong-heon Lee|        Se-yeong Bae|Lee Hanee, Shin H...|  Not Rated|       7.1|                 82.0|            NULL|            7.0|                27.0|$1,565,885| 21 Jun 2019|          2021-02-28|CJ Entertainment|https://www.netfl...|https://www.imdb....|A narcotics unit ...|    6757.0|https://occ-0-136...|https://m.media-a...|https://www.youtu...|     YouTube|\n",
      "|             Default|               Drama|Social Issue Dram...| Korean, English|          Movie|             8.1|         South Korea|1-2 hour|  Kook-Hee Choi|       Seong-min Eom|Kim Hye-su, Yoo A...|  Not Rated|       6.6|                 78.0|            NULL|            3.0|                 6.0|  $203,775| 28 Nov 2018|          2021-02-28|            NULL|https://www.netfl...|https://www.imdb....|In 1997 South Kor...|    1007.0|https://occ-0-136...|https://m.media-a...|https://www.youtu...|     YouTube|\n",
      "+--------------------+--------------------+--------------------+----------------+---------------+----------------+--------------------+--------+---------------+--------------------+--------------------+-----------+----------+---------------------+----------------+---------------+--------------------+----------+------------+--------------------+----------------+--------------------+--------------------+--------------------+----------+--------------------+--------------------+--------------------+------------+\n",
      "only showing top 10 rows\n",
      "\n"
     ]
    }
   ],
   "source": [
    "from pyspark.sql.functions import col\n",
    "df2 = df.filter(col('Languages').like('%Korean%'))\n",
    "df.filter(col('Languages').like('%Korean%')).show(10)"
   ]
  },
  {
   "cell_type": "markdown",
   "metadata": {},
   "source": [
    "## Which director has the highest average hidden gem score?"
   ]
  },
  {
   "cell_type": "code",
   "execution_count": 70,
   "metadata": {},
   "outputs": [
    {
     "name": "stdout",
     "output_type": "stream",
     "text": [
      "+--------------------+------------------------+\n",
      "|            Director|Average Hidden Gem Score|\n",
      "+--------------------+------------------------+\n",
      "|         Dorin Marcu|                     9.8|\n",
      "|    Fernando Escovar|                     9.6|\n",
      "|          Rosa Russo|                     9.5|\n",
      "|         Kate Brooks|                     9.5|\n",
      "|Vincent Bal, Kenn...|                     9.5|\n",
      "|    Ignacio Busquier|                     9.5|\n",
      "|Bill Butler, Will...|                     9.5|\n",
      "|     Charles Officer|                     9.4|\n",
      "|Jacqui Morris, Da...|                     9.3|\n",
      "|           Ryan Sage|                     9.3|\n",
      "+--------------------+------------------------+\n",
      "only showing top 10 rows\n",
      "\n"
     ]
    }
   ],
   "source": [
    "from pyspark.sql.functions import avg\n",
    "\n",
    "df2 = df.groupBy('Director').agg(avg('Hidden Gem Score').alias('Average Hidden Gem Score')).orderBy('Average Hidden Gem Score', ascending=False)\n",
    "df2.show(10)"
   ]
  },
  {
   "cell_type": "markdown",
   "metadata": {},
   "source": [
    "## How many genres are there in the dataset?"
   ]
  },
  {
   "cell_type": "code",
   "execution_count": 87,
   "metadata": {},
   "outputs": [
    {
     "name": "stdout",
     "output_type": "stream",
     "text": [
      "+-----------+\n",
      "|      Genre|\n",
      "+-----------+\n",
      "|      Crime|\n",
      "|    Romance|\n",
      "|   Thriller|\n",
      "|  Adventure|\n",
      "|      Drama|\n",
      "|        War|\n",
      "|Documentary|\n",
      "| Reality-TV|\n",
      "|     Family|\n",
      "|    Fantasy|\n",
      "+-----------+\n",
      "only showing top 10 rows\n",
      "\n"
     ]
    }
   ],
   "source": [
    "from pyspark.sql.functions import split, explode\n",
    "\n",
    "# df2 = df.withColumn('Genre', split(df['Genre'], ', '))\n",
    "# genres = df2.select(explode(df2['Genre']).alias('Genre')).distinct()\n",
    "\n",
    "# print(genres.count())\n",
    "df2 = df.withColumn('Genres',split(df['Genre'],', '))\n",
    "genres = df2.select(explode(df2['Genres']).alias('Genre')).distinct()\n",
    "genres.show(10)"
   ]
  }
 ],
 "metadata": {
  "kernelspec": {
   "display_name": "Python 3 (ipykernel)",
   "language": "python",
   "name": "python3"
  },
  "language_info": {
   "codemirror_mode": {
    "name": "ipython",
    "version": 3
   },
   "file_extension": ".py",
   "mimetype": "text/x-python",
   "name": "python",
   "nbconvert_exporter": "python",
   "pygments_lexer": "ipython3",
   "version": "3.12.2"
  },
  "toc": {
   "base_numbering": 1,
   "nav_menu": {},
   "number_sections": true,
   "sideBar": true,
   "skip_h1_title": false,
   "title_cell": "Table of Contents",
   "title_sidebar": "Contents",
   "toc_cell": false,
   "toc_position": {},
   "toc_section_display": true,
   "toc_window_display": false
  },
  "varInspector": {
   "cols": {
    "lenName": 16,
    "lenType": 16,
    "lenVar": 40
   },
   "kernels_config": {
    "python": {
     "delete_cmd_postfix": "",
     "delete_cmd_prefix": "del ",
     "library": "var_list.py",
     "varRefreshCmd": "print(var_dic_list())"
    },
    "r": {
     "delete_cmd_postfix": ") ",
     "delete_cmd_prefix": "rm(",
     "library": "var_list.r",
     "varRefreshCmd": "cat(var_dic_list()) "
    }
   },
   "types_to_exclude": [
    "module",
    "function",
    "builtin_function_or_method",
    "instance",
    "_Feature"
   ],
   "window_display": false
  }
 },
 "nbformat": 4,
 "nbformat_minor": 4
}
