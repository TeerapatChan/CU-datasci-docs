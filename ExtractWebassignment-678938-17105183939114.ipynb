{
  "cells": [
    {
      "cell_type": "markdown",
      "metadata": {
        "id": "oRq-QV0FoLaj"
      },
      "source": [
        "# Assignment: Extracting Static WebPage\n",
        "\n",
        "Extract information about “วันพระ” for 3 years from:\n",
        "- https://www.myhora.com/ปฏิทิน/วันพระ-พ.ศ.2565.aspx\n",
        "- https://www.myhora.com/ปฏิทิน/วันพระ-พ.ศ.2566.aspx\n",
        "- https://www.myhora.com/ปฏิทิน/วันพระ-พ.ศ.2567.aspx\n"
      ]
    },
    {
      "cell_type": "markdown",
      "metadata": {
        "id": "i180Eo_boLam"
      },
      "source": [
        "Note that you can use dateparse package to parse Thai date.  First, we will have to install the package, this is for Google Colab users.  Otherwise, installing via command line is recommended (pip or conda)."
      ]
    },
    {
      "cell_type": "code",
      "execution_count": 56,
      "metadata": {
        "scrolled": true,
        "id": "C8yRJmbhoLan",
        "colab": {
          "base_uri": "https://localhost:8080/"
        },
        "outputId": "05d7bfff-ca57-4f8f-e3c7-f5a1be9bdda5"
      },
      "outputs": [
        {
          "output_type": "stream",
          "name": "stdout",
          "text": [
            "Requirement already satisfied: dateparser in /usr/local/lib/python3.10/dist-packages (1.2.0)\n",
            "Requirement already satisfied: python-dateutil in /usr/local/lib/python3.10/dist-packages (from dateparser) (2.8.2)\n",
            "Requirement already satisfied: pytz in /usr/local/lib/python3.10/dist-packages (from dateparser) (2023.4)\n",
            "Requirement already satisfied: regex!=2019.02.19,!=2021.8.27 in /usr/local/lib/python3.10/dist-packages (from dateparser) (2023.12.25)\n",
            "Requirement already satisfied: tzlocal in /usr/local/lib/python3.10/dist-packages (from dateparser) (5.2)\n",
            "Requirement already satisfied: six>=1.5 in /usr/local/lib/python3.10/dist-packages (from python-dateutil->dateparser) (1.16.0)\n"
          ]
        }
      ],
      "source": [
        "import sys\n",
        "IN_COLAB = 'google.colab' in sys.modules\n",
        "if IN_COLAB:\n",
        "    %pip install dateparser"
      ]
    },
    {
      "cell_type": "code",
      "execution_count": 57,
      "metadata": {
        "id": "eg3SIljXoLao"
      },
      "outputs": [],
      "source": [
        "import dateparser"
      ]
    },
    {
      "cell_type": "markdown",
      "metadata": {
        "id": "ZO-pDtwxoLap"
      },
      "source": [
        "To convert from thai text date string, we will use the parse method.  Note that the parse method assumes the BC year, not BE.  Thus, we will have to subtract 543 from the year.  In addition, weekday() returns day of week with 0=Monday, ..., 6=Sunday."
      ]
    },
    {
      "cell_type": "code",
      "execution_count": 58,
      "metadata": {
        "id": "zfUrvzZqoLap",
        "colab": {
          "base_uri": "https://localhost:8080/"
        },
        "outputId": "d055b148-29ef-41ec-ae80-10e037992eee"
      },
      "outputs": [
        {
          "output_type": "stream",
          "name": "stdout",
          "text": [
            "2563-01-17 00:00:00\n",
            "0\n",
            "2020-01-17 00:00:00\n",
            "4\n"
          ]
        }
      ],
      "source": [
        "dt = dateparser.parse('วันศุกร์ที่ 17 มกราคม 2563')\n",
        "\n",
        "# this will print out weekday == 0 (Monday)\n",
        "print(dt)\n",
        "print(dt.weekday())\n",
        "\n",
        "# this will print out weekday == 4 (Friday)\n",
        "dt = dt.replace(year=dt.year-543)\n",
        "print(dt)\n",
        "print(dt.weekday())"
      ]
    },
    {
      "cell_type": "code",
      "execution_count": 59,
      "metadata": {
        "id": "KIJA792qoLap",
        "colab": {
          "base_uri": "https://localhost:8080/"
        },
        "outputId": "3b200c6d-d0da-4020-9b15-3bed1a03e5a4"
      },
      "outputs": [
        {
          "output_type": "stream",
          "name": "stdout",
          "text": [
            "2021-09-21 00:00:00\n",
            "1\n"
          ]
        }
      ],
      "source": [
        "dt = dateparser.parse('วันเสาร์ที่ 21 กันยายน 2564')\n",
        "dt = dt.replace(year=dt.year-543)\n",
        "print(dt)\n",
        "print(dt.weekday())"
      ]
    },
    {
      "cell_type": "markdown",
      "metadata": {
        "id": "20Lu4C_QoLaq"
      },
      "source": [
        "Count the distribution of number of week days that are “วันพระ” for all three years and answer the following questions:"
      ]
    },
    {
      "cell_type": "markdown",
      "metadata": {
        "id": "xRQ2xijBoLaq"
      },
      "source": [
        "## How many วันพระ in total (of 3 years)?"
      ]
    },
    {
      "cell_type": "code",
      "execution_count": 60,
      "metadata": {
        "id": "RpnVF63hoLaq",
        "colab": {
          "base_uri": "https://localhost:8080/"
        },
        "outputId": "311e3669-33be-45c0-9227-d41126b06602"
      },
      "outputs": [
        {
          "output_type": "stream",
          "name": "stdout",
          "text": [
            "Total :  152\n"
          ]
        }
      ],
      "source": [
        "import requests\n",
        "from bs4 import BeautifulSoup\n",
        "\n",
        "base_urls = [\n",
        "    \"https://www.myhora.com/ปฏิทิน/วันพระ-พ.ศ.2565.aspx\",\n",
        "    \"https://www.myhora.com/ปฏิทิน/วันพระ-พ.ศ.2566.aspx\",\n",
        "    \"https://www.myhora.com/ปฏิทิน/วันพระ-พ.ศ.2567.aspx\"\n",
        "]\n",
        "\n",
        "total_count=0\n",
        "for url in base_urls:\n",
        "    response = requests.get(url)\n",
        "    if response.status_code == 200:\n",
        "      # print(response.text)\n",
        "      soup = BeautifulSoup(response.content, \"html.parser\")\n",
        "      div_count = len(soup.find_all(\"div\", class_=\"bud-day\"))\n",
        "      # print(\"Number of <div> elements with id='bud-day-col' in\", url, \":\", div_count)\n",
        "      total_count+=div_count\n",
        "    else:\n",
        "        print(\"Failed to fetch data from\", url)\n",
        "print(\"Total : \",total_count)"
      ]
    },
    {
      "cell_type": "markdown",
      "metadata": {
        "id": "v_k0jkYLoLaq"
      },
      "source": [
        "## How many days in total (of 3 years) that วันพระ is Monday?"
      ]
    },
    {
      "cell_type": "code",
      "execution_count": 61,
      "metadata": {
        "id": "Znm8YFaToLar",
        "colab": {
          "base_uri": "https://localhost:8080/"
        },
        "outputId": "10cfefc2-561e-45bd-a9f7-125865786bae"
      },
      "outputs": [
        {
          "output_type": "stream",
          "name": "stdout",
          "text": [
            "21\n"
          ]
        }
      ],
      "source": [
        "import requests\n",
        "from bs4 import BeautifulSoup\n",
        "\n",
        "base_urls = [\n",
        "    \"https://www.myhora.com/ปฏิทิน/วันพระ-พ.ศ.2565.aspx\",\n",
        "    \"https://www.myhora.com/ปฏิทิน/วันพระ-พ.ศ.2566.aspx\",\n",
        "    \"https://www.myhora.com/ปฏิทิน/วันพระ-พ.ศ.2567.aspx\"\n",
        "]\n",
        "\n",
        "mon_count=0\n",
        "for url in base_urls:\n",
        "    response = requests.get(url)\n",
        "    if response.status_code == 200:\n",
        "      # print(response.text)\n",
        "      soup = BeautifulSoup(response.content, \"html.parser\")\n",
        "      all_bud_day = soup.find_all(\"div\", class_=\"bud-day\")\n",
        "      for div in all_bud_day:\n",
        "        day = div.find(\"div\", class_=\"bud-day-col\")\n",
        "        # print(day.text.strip())\n",
        "        dt = dateparser.parse(day.text.strip())\n",
        "        dt = dt.replace(year=dt.year-543)\n",
        "        if(dt.weekday()==0):\n",
        "          mon_count+=1\n",
        "    else:\n",
        "        print(\"Failed to fetch data from\", url)\n",
        "print(mon_count)"
      ]
    },
    {
      "cell_type": "markdown",
      "metadata": {
        "id": "LUpklfJioLar"
      },
      "source": [
        "## Which day of the week that has the minimum number of วันพระ?"
      ]
    },
    {
      "cell_type": "code",
      "execution_count": 62,
      "metadata": {
        "id": "uBx6yfX3oLar",
        "colab": {
          "base_uri": "https://localhost:8080/"
        },
        "outputId": "5cf07188-7816-44d8-9ec0-3b6b07234387"
      },
      "outputs": [
        {
          "output_type": "stream",
          "name": "stdout",
          "text": [
            "Tuesday\n"
          ]
        }
      ],
      "source": [
        "import requests\n",
        "from bs4 import BeautifulSoup\n",
        "\n",
        "base_urls = [\n",
        "    \"https://www.myhora.com/ปฏิทิน/วันพระ-พ.ศ.2565.aspx\",\n",
        "    \"https://www.myhora.com/ปฏิทิน/วันพระ-พ.ศ.2566.aspx\",\n",
        "    \"https://www.myhora.com/ปฏิทิน/วันพระ-พ.ศ.2567.aspx\"\n",
        "]\n",
        "\n",
        "day_count=[0,0,0,0,0,0,0]\n",
        "for url in base_urls:\n",
        "    response = requests.get(url)\n",
        "    if response.status_code == 200:\n",
        "      soup = BeautifulSoup(response.content, \"html.parser\")\n",
        "      all_bud_day = soup.find_all(\"div\", class_=\"bud-day\")\n",
        "      for div in all_bud_day:\n",
        "        day = div.find(\"div\", class_=\"bud-day-col\")\n",
        "        dt = dateparser.parse(day.text.strip())\n",
        "        dt = dt.replace(year=dt.year-543)\n",
        "        day_count[dt.weekday()] +=1\n",
        "\n",
        "    else:\n",
        "        print(\"Failed to fetch data from\", url)\n",
        "days_of_week = [\"Monday\", \"Tuesday\", \"Wednesday\", \"Thursday\", \"Friday\", \"Saturday\", \"Sunday\"]\n",
        "mapped_counts = dict(zip(days_of_week, day_count))\n",
        "min_count = min(day_count)\n",
        "for day,val in mapped_counts.items():\n",
        "  if(val==min_count):\n",
        "    print(day)"
      ]
    },
    {
      "cell_type": "markdown",
      "metadata": {
        "id": "Re0t5CNYoLar"
      },
      "source": [
        "## Which day of the week that has the maximum number of วันพระ?"
      ]
    },
    {
      "cell_type": "code",
      "execution_count": 63,
      "metadata": {
        "id": "H-AJbkcLoLar",
        "colab": {
          "base_uri": "https://localhost:8080/"
        },
        "outputId": "cb0901f3-8cd6-4fa8-b5cb-2948a64213c8"
      },
      "outputs": [
        {
          "output_type": "stream",
          "name": "stdout",
          "text": [
            "Sunday\n"
          ]
        }
      ],
      "source": [
        "import requests\n",
        "from bs4 import BeautifulSoup\n",
        "\n",
        "base_urls = [\n",
        "    \"https://www.myhora.com/ปฏิทิน/วันพระ-พ.ศ.2565.aspx\",\n",
        "    \"https://www.myhora.com/ปฏิทิน/วันพระ-พ.ศ.2566.aspx\",\n",
        "    \"https://www.myhora.com/ปฏิทิน/วันพระ-พ.ศ.2567.aspx\"\n",
        "]\n",
        "\n",
        "day_count=[0,0,0,0,0,0,0]\n",
        "for url in base_urls:\n",
        "    response = requests.get(url)\n",
        "    if response.status_code == 200:\n",
        "      # print(response.text)\n",
        "      soup = BeautifulSoup(response.content, \"html.parser\")\n",
        "      all_bud_day = soup.find_all(\"div\", class_=\"bud-day\")\n",
        "      for div in all_bud_day:\n",
        "        day = div.find(\"div\", class_=\"bud-day-col\")\n",
        "        # print(day.text.strip())\n",
        "        dt = dateparser.parse(day.text.strip())\n",
        "        dt = dt.replace(year=dt.year-543)\n",
        "        day_count[dt.weekday()] +=1\n",
        "\n",
        "    else:\n",
        "        print(\"Failed to fetch data from\", url)\n",
        "days_of_week = [\"Monday\", \"Tuesday\", \"Wednesday\", \"Thursday\", \"Friday\", \"Saturday\", \"Sunday\"]\n",
        "mapped_counts = dict(zip(days_of_week, day_count))\n",
        "max_count = max(day_count)\n",
        "for day,val in mapped_counts.items():\n",
        "  if(val==max_count):\n",
        "    print(day)"
      ]
    },
    {
      "cell_type": "code",
      "execution_count": 63,
      "metadata": {
        "id": "EuGx6i5WoLar"
      },
      "outputs": [],
      "source": []
    }
  ],
  "metadata": {
    "kernelspec": {
      "display_name": "Python 3 (ipykernel)",
      "language": "python",
      "name": "python3"
    },
    "language_info": {
      "codemirror_mode": {
        "name": "ipython",
        "version": 3
      },
      "file_extension": ".py",
      "mimetype": "text/x-python",
      "name": "python",
      "nbconvert_exporter": "python",
      "pygments_lexer": "ipython3",
      "version": "3.11.4"
    },
    "toc": {
      "base_numbering": 1,
      "nav_menu": {},
      "number_sections": true,
      "sideBar": true,
      "skip_h1_title": false,
      "title_cell": "Table of Contents",
      "title_sidebar": "Contents",
      "toc_cell": false,
      "toc_position": {},
      "toc_section_display": true,
      "toc_window_display": false
    },
    "varInspector": {
      "cols": {
        "lenName": 16,
        "lenType": 16,
        "lenVar": 40
      },
      "kernels_config": {
        "python": {
          "delete_cmd_postfix": "",
          "delete_cmd_prefix": "del ",
          "library": "var_list.py",
          "varRefreshCmd": "print(var_dic_list())"
        },
        "r": {
          "delete_cmd_postfix": ") ",
          "delete_cmd_prefix": "rm(",
          "library": "var_list.r",
          "varRefreshCmd": "cat(var_dic_list()) "
        }
      },
      "types_to_exclude": [
        "module",
        "function",
        "builtin_function_or_method",
        "instance",
        "_Feature"
      ],
      "window_display": false
    },
    "colab": {
      "provenance": []
    }
  },
  "nbformat": 4,
  "nbformat_minor": 0
}